{
 "cells": [
  {
   "cell_type": "code",
   "execution_count": 1,
   "id": "1f5dc1da-72c4-4c1f-9486-88a2db08bab1",
   "metadata": {},
   "outputs": [],
   "source": [
    "## Get the library Setup\n",
    "from equity_downloader import *\n",
    "from datetime import date, timedelta, datetime\n",
    "import random\n",
    "import time\n",
    "import random\n",
    "import requests\n",
    "import pandas as pd\n",
    "import numpy as np\n",
    "import xgboost as xgb\n",
    "from itertools import chain\n",
    "from sklearn.metrics import roc_auc_score, confusion_matrix, f1_score\n",
    "import os\n",
    "import re\n",
    "from sklearn.model_selection import train_test_split\n"
   ]
  },
  {
   "cell_type": "code",
   "execution_count": 2,
   "id": "15ea056f-4559-4666-8bc6-7a3b07384f9b",
   "metadata": {},
   "outputs": [
    {
     "name": "stdout",
     "output_type": "stream",
     "text": [
      "Downloading data from 2023-06-02 00:00:00 to 2023-06-03\n"
     ]
    }
   ],
   "source": [
    "# get the dates for which download is needed\n",
    "daily_folder = \"E:/Equity Research/daily\"\n",
    "index_folder = \"E:/Equity Research/index\"\n",
    "daily_format = \"https://archives.nseindia.com/products/content/sec_bhavdata_full_\"\n",
    "index_format = \"https://archives.nseindia.com/content/indices/ind_close_all_\"\n",
    "\n",
    "daily_max_date = max([datetime.strptime(re.sub(\".csv\",\"\",re.sub(\"sec_bhavdata_full_\",\"\",x)), \"%d%m%Y\") for x in os.listdir(daily_folder)]) + timedelta(1)\n",
    "index_max_date = max([datetime.strptime(re.sub(\".csv\",\"\",re.sub(\"ind_close_all_\",\"\",x)), \"%d%m%Y\") for x in os.listdir(index_folder)]) + timedelta(1)\n",
    "\n",
    "daily_lst = [daily_max_date.year, daily_max_date.month, daily_max_date.day]\n",
    "today_lst = [date.today().year, date.today().month, date.today().day]\n",
    "\n",
    "print(f\"Downloading data from {daily_max_date} to {date.today()}\")"
   ]
  },
  {
   "cell_type": "code",
   "execution_count": 3,
   "id": "dc796eca-6980-461b-9796-8fe95c645d6b",
   "metadata": {
    "tags": []
   },
   "outputs": [
    {
     "name": "stdout",
     "output_type": "stream",
     "text": [
      "File downloaded successfully to 'E:/Equity Research/temp_daily\\sec_bhavdata_full_02062023.csv'\n",
      "https://archives.nseindia.com/products/content/sec_bhavdata_full_02062023.csv\n",
      "File downloaded successfully to 'E:/Equity Research/temp_index\\ind_close_all_02062023.csv'\n",
      "https://archives.nseindia.com/content/indices/ind_close_all_02062023.csv\n"
     ]
    }
   ],
   "source": [
    "# Download the files for daily and index\n",
    "if daily_max_date.date()<date.today():\n",
    "    for x in generate_date_list(start=daily_lst,end=today_lst):\n",
    "        url = f\"{daily_format}{x}.csv\"\n",
    "        download_file(url, 'E:/Equity Research/temp_daily',2)\n",
    "        print(url)\n",
    "        delay = random.uniform(3, 5)\n",
    "\n",
    "        # Pause execution for the random delay\n",
    "        time.sleep(delay)\n",
    "# Download the index file  \n",
    "if index_max_date.date()<date.today():\n",
    "    for x in generate_date_list(start=daily_lst,end=today_lst):\n",
    "        url = f\"{index_format}{x}.csv\"\n",
    "        download_file(url, 'E:/Equity Research/temp_index',2)\n",
    "        print(url)\n",
    "        delay = random.uniform(3, 5)\n",
    "\n",
    "        # Pause execution for the random delay\n",
    "        time.sleep(delay)\n",
    "    "
   ]
  },
  {
   "cell_type": "code",
   "execution_count": 4,
   "id": "82ff2035-6a2b-4146-8934-68284b127390",
   "metadata": {},
   "outputs": [
    {
     "name": "stdout",
     "output_type": "stream",
     "text": [
      "Arrange and clean up the folders\n",
      "ind_close_all_02062023.csv\n",
      "Combined data saved to 'E:/Equity Research/Misc Files/temp_index.csv'\n",
      "sec_bhavdata_full_02062023.csv\n",
      "Combined data saved to 'E:/Equity Research/Misc Files/temp_daily.csv'\n",
      "All files have been removed from the folder.\n",
      "All files have been removed from the folder.\n"
     ]
    }
   ],
   "source": [
    "print(\"Arrange and clean up the folders\")\n",
    "\n",
    "# Read the base file and the temp files\n",
    "daily_base = pd.read_csv(\"Misc Files/bhavcopy_base.csv\", low_memory=False)\n",
    "daily_base.columns = [x.strip() for x in daily_base.columns]\n",
    "index_base = pd.read_csv(\"Misc Files/index_base.csv\")\n",
    "\n",
    "if len(os.listdir(\"E:/Equity Research/temp_daily\"))>0:\n",
    "    copy_files(\"E:/Equity Research/temp_daily\", \"E:/Equity Research/daily\")\n",
    "    copy_files(\"E:/Equity Research/temp_index\", \"E:/Equity Research/index\")\n",
    "\n",
    "    combine_files(folder_path=\"E:/Equity Research/temp_index\", output_file = \"E:/Equity Research/Misc Files/temp_index.csv\")\n",
    "    combine_files(folder_path=\"E:/Equity Research/temp_daily\", output_file = \"E:/Equity Research/Misc Files/temp_daily.csv\")\n",
    "\n",
    "    temp_daily = pd.read_csv(\"E:/Equity Research/Misc Files/temp_daily.csv\")\n",
    "    temp_daily.columns = [x.strip() for x in temp_daily.columns]\n",
    "    temp_daily = temp_daily[temp_daily['SERIES']==' EQ']\n",
    "\n",
    "    temp_index = pd.read_csv(\"E:/Equity Research/Misc Files/temp_index.csv\")\n",
    "\n",
    "    # Append the files to get the current dataset\n",
    "    daily_base = pd.concat([daily_base, temp_daily], ignore_index=True)\n",
    "    index_base = pd.concat([index_base, temp_index], ignore_index=True)\n",
    "\n",
    "    # Clean the temp folders\n",
    "    clean_folder(folder_path=\"E:/Equity Research/temp_index\")\n",
    "    clean_folder(folder_path=\"E:/Equity Research/temp_daily\")\n",
    "\n",
    "# Now save this dataset and replace the old dataset\n",
    "daily_base.to_csv(\"Misc Files/bhavcopy_base.csv\", index=False)\n",
    "index_base.to_csv(\"Misc Files/index_base.csv\", index=False)"
   ]
  },
  {
   "cell_type": "code",
   "execution_count": 5,
   "id": "c47a9036-0240-49b9-aa26-b8500150c1d4",
   "metadata": {},
   "outputs": [],
   "source": [
    "# Get the market cap and industry data\n",
    "sec_mcap = pd.read_csv(\"E:/Equity Research/Misc Files/Eq_Mcap_Industry_data.csv\")\n",
    "\n",
    "eq_df_industry = pd.merge(daily_base, sec_mcap, on='SYMBOL')\n",
    "\n",
    "# Apply the conversion function to the 'date_string' column\n",
    "\n",
    "eq_df_industry['DATE'] = [convert_date(x) for x in eq_df_industry['DATE1'].tolist()]\n",
    "eq_df_industry['DATE'] = pd.to_datetime(eq_df_industry['DATE'], format='%Y-%m-%d')\n",
    "eq_df_industry.sort_values(['SYMBOL', 'DATE'], inplace=True)\n",
    "\n",
    "eq_df_industry['DELIV_QTY'] = eq_df_industry['DELIV_QTY'].replace(' -', 0)\n",
    "eq_df_industry['DELIV_QTY'] = eq_df_industry['DELIV_QTY'].astype(float)\n",
    "eq_df_industry['DELIV_PER'] = eq_df_industry['DELIV_PER'].replace(' -', 0)\n",
    "eq_df_industry['DELIV_PER'] = eq_df_industry['DELIV_PER'].astype(float)\n",
    "eq_df_industry.drop(['DATE1', 'SERIES', 'LAST_PRICE', 'AVG_PRICE'], axis=1, inplace=True)\n",
    "\n",
    "eq_df_industry = eq_df_industry[['SYMBOL', 'DATE', 'COMPANY NAME', 'INDUSTRY', 'MCAP_INLAKHS', 'PREV_CLOSE', 'OPEN_PRICE', 'HIGH_PRICE', 'LOW_PRICE'\n",
    "  , 'CLOSE_PRICE', 'TTL_TRD_QNTY', 'TURNOVER_LACS', 'NO_OF_TRADES', 'DELIV_QTY', 'DELIV_PER']]\n",
    "\n",
    "eq_df_industry['AVG_TURNOVER'] = eq_df_industry.groupby('SYMBOL')['TURNOVER_LACS'].transform('mean')\n",
    "eq_df_industry['MIN_TURNOVER'] = eq_df_industry.groupby('SYMBOL')['TURNOVER_LACS'].transform('min')\n",
    "# eq_df_industry['MEAN_TURNOVER_240'] = eq_df_industry.groupby('SYMBOL')['TURNOVER_LACS'].rolling(window=240).mean().reset_index(0,drop=True)\n",
    "\n",
    "eq_df_industry['TOTAL_TRADE_DAYS'] = eq_df_industry.groupby('SYMBOL')['SYMBOL'].transform('count')\n",
    "eq_df_industry['MAX_DATE'] = eq_df_industry.groupby('SYMBOL')['DATE'].transform('max')\n",
    "\n",
    "eq_df_industry_filtered = eq_df_industry[(eq_df_industry['TOTAL_TRADE_DAYS']>600) & (eq_df_industry['AVG_TURNOVER']>250)].copy()\n",
    "\n",
    "eq_df_industry_filtered.sort_values(['SYMBOL', 'DATE'], inplace=True)\n",
    "\n",
    "eq_df_industry_filtered.to_csv(\"Misc Files/bhavcopy_modeldf.csv\", index=False)"
   ]
  },
  {
   "cell_type": "code",
   "execution_count": 6,
   "id": "575ddaf6-3784-4f82-95b4-7c03ee366ffd",
   "metadata": {},
   "outputs": [
    {
     "data": {
      "text/plain": [
       "(511372, 19)"
      ]
     },
     "execution_count": 6,
     "metadata": {},
     "output_type": "execute_result"
    }
   ],
   "source": [
    "eq_df_industry_filtered.shape"
   ]
  },
  {
   "cell_type": "code",
   "execution_count": null,
   "id": "61e0a63f-4001-47e2-8e87-6075200761b0",
   "metadata": {},
   "outputs": [],
   "source": []
  }
 ],
 "metadata": {
  "kernelspec": {
   "display_name": "Python 3 (ipykernel)",
   "language": "python",
   "name": "python3"
  },
  "language_info": {
   "codemirror_mode": {
    "name": "ipython",
    "version": 3
   },
   "file_extension": ".py",
   "mimetype": "text/x-python",
   "name": "python",
   "nbconvert_exporter": "python",
   "pygments_lexer": "ipython3",
   "version": "3.9.16"
  }
 },
 "nbformat": 4,
 "nbformat_minor": 5
}
